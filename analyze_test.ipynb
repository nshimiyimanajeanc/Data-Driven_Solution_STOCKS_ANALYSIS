{
 "cells": [
  {
   "cell_type": "markdown",
   "id": "fe73b43d",
   "metadata": {},
   "source": [
    "# Inventory Analysis API Test Script\n",
    "\n",
    "## Overview\n",
    "This Python script (`analyze_test.py`) is designed to test the functionality of the Inventory Analysis API. It sends a sample request to the API endpoint `/analyze` with predefined data and prints the response.\n",
    "\n",
    "## Running the Test Script\n",
    "1. **Requirements:**\n",
    "    - Python\n",
    "    - Requests library (`pip install requests`)\n",
    "\n",
    "2. **Run the Test Script:**\n",
    "   - Navigate to the directory containing the test script.\n",
    "   - Execute the following command in the terminal:\n",
    "     ```bash\n",
    "     python analyze_test.py\n",
    "     ```\n",
    "\n",
    "3. **Output:**\n",
    "   - The script will print the HTTP status code and the JSON response received from the API.\n",
    "\n",
    "## Important Notes\n",
    "- Ensure that the API (`your_api_file.py`) is running locally before executing the test script.\n",
    "- Adjust the API endpoint URL and request data in the script as needed.\n"
   ]
  },
  {
   "cell_type": "code",
   "execution_count": 1,
   "id": "b15ba810",
   "metadata": {},
   "outputs": [
    {
     "name": "stdout",
     "output_type": "stream",
     "text": [
      "200\n",
      "{'branch': 'DAN002', 'itemCode': 'SAL009', 'itemData': {'actualOOSD': 187, 'averageOOSD': 17.0, 'endDate': '31/12/2023', 'startDate': '01/01/2023', 'totalPurchases': 89995, 'totalSales': 84753}}\n"
     ]
    }
   ],
   "source": [
    "import requests\n",
    "\n",
    "# Define the URL for your API endpoint\n",
    "url = 'http://127.0.0.1:5000/analyze'\n",
    "\n",
    "# Define the request data in JSON format\n",
    "data = {\n",
    "    \"startDate\": \"01/01/2023\",\n",
    "    \"endDate\": \"31/12/2023\",\n",
    "    \"branch\": \"DAN002\",\n",
    "    \"itemCode\": \"SAL009\"\n",
    "}\n",
    "\n",
    "# Send a POST request to the API endpoint\n",
    "response = requests.post(url, json=data)\n",
    "\n",
    "# Print the response from the API\n",
    "print(response.status_code)\n",
    "print(response.json())\n"
   ]
  },
  {
   "cell_type": "markdown",
   "id": "311edee9",
   "metadata": {},
   "source": [
    "## Interpretation of Analysis Result\n",
    "\n",
    "**Interpretation:**\n",
    "\n",
    "- The analysis for branch 'DAN002' and item code 'SAL009' during the period from 01/01/2023 to 31/12/2023 indicates the following:\n",
    "  - Actual Out Of Stock Days (actualOOSD): 187 days, which means the product was out of stock for a total of 187 days during this period.\n",
    "  - Average Out Of Stock Days (averageOOSD): 17.0 days, indicating that, on average, the product was out of stock for approximately 17 days during each restocking cycle.\n",
    "  - Total purchases during this period: 89,995 items, reflecting the quantity of 'SAL009' purchased.\n",
    "  - Total sales during this period: 84,753 items, representing the quantity of 'SAL009' sold.\n",
    "\n",
    "**Significance:**\n",
    "\n",
    "- The analysis highlights that for branch 'DAN002' and item code 'SAL009,' there were significant instances of running out of stock, totaling 187 days.\n",
    "- The average out-of-stock period of 17 days suggests that there were frequent occurrences of the product being unavailable for purchase.\n",
    "- To improve customer satisfaction and avoid lost sales opportunities, it's crucial to manage stock levels effectively, potentially by increasing purchase quantities or optimizing restocking schedules.\n"
   ]
  },
  {
   "cell_type": "code",
   "execution_count": null,
   "id": "761b0aa8",
   "metadata": {},
   "outputs": [],
   "source": []
  }
 ],
 "metadata": {
  "kernelspec": {
   "display_name": "Python 3 (ipykernel)",
   "language": "python",
   "name": "python3"
  },
  "language_info": {
   "codemirror_mode": {
    "name": "ipython",
    "version": 3
   },
   "file_extension": ".py",
   "mimetype": "text/x-python",
   "name": "python",
   "nbconvert_exporter": "python",
   "pygments_lexer": "ipython3",
   "version": "3.11.5"
  }
 },
 "nbformat": 4,
 "nbformat_minor": 5
}
